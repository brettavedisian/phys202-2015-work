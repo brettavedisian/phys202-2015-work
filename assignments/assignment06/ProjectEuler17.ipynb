{
 "cells": [
  {
   "cell_type": "markdown",
   "metadata": {
    "nbgrader": {}
   },
   "source": [
    "# Project Euler: Problem 17"
   ]
  },
  {
   "cell_type": "markdown",
   "metadata": {
    "nbgrader": {}
   },
   "source": [
    "https://projecteuler.net/problem=17\n",
    "\n",
    "If the numbers 1 to 5 are written out in words: one, two, three, four, five, then there are 3 + 3 + 5 + 4 + 4 = 19 letters used in total.\n",
    "\n",
    "If all the numbers from 1 to 1000 (one thousand) inclusive were written out in words, how many letters would be used?\n",
    "\n",
    "\n",
    "NOTE: Do not count spaces or hyphens. For example, 342 (three hundred and forty-two) contains 23 letters and 115 (one hundred and fifteen) contains 20 letters. The use of \"and\" when writing out numbers is in compliance with British usage."
   ]
  },
  {
   "cell_type": "markdown",
   "metadata": {
    "nbgrader": {}
   },
   "source": [
    "First write a `number_to_words(n)` function that takes an integer `n` between 1 and 1000 inclusive and returns a list of words for the number as described above"
   ]
  },
  {
   "cell_type": "code",
   "execution_count": 1,
   "metadata": {
    "collapsed": false,
    "nbgrader": {
     "checksum": "790b69a83b63d5a31b5fac1451dd3b54",
     "solution": true
    }
   },
   "outputs": [],
   "source": [
    "def number_to_words(n):\n",
    "    \"\"\"Given a number n between 1-1000 inclusive return a list of words for the number.\"\"\"\n",
    "    num_to_word={'1':'one','2':'two','3':'three','4':'four','5':'five','6':'six','7':'seven','8':'eight','9':'nine','10':'ten',\n",
    "                 '11':'eleven','12':'twelve','13':'thirteen','14':'fourteen','15':'fifteen','16':'sixteen','17':'seventeen',\n",
    "                '18':'eighteen','19':'nineteen','20':'twenty','30':'thirty','40':'forty','50':'fifty','60':'sixty','70':'seventy',\n",
    "                '80':'eighty','90':'ninety'}\n",
    "    w=[]\n",
    "    for i in range(1,n+1):\n",
    "        a=str(i)#change either n's to i's or leave as n's\n",
    "        if i==1000:\n",
    "            w.append('one thousand')\n",
    "        elif i in range(1,20): #prints the first 19 natural numbers\n",
    "            w.append(num_to_word[a])\n",
    "        elif i not in range(20,100,10) and i<100: #prints the numbers between values of 10 ie: 21-29\n",
    "            w.append(num_to_word[str(i-i%10)]+'-'+num_to_word[str(i%10)])\n",
    "        elif i in range(20,100,10): #prints double digit number ending in zero ie: 20,30,...,90\n",
    "            w.append(num_to_word[a])\n",
    "        elif (i%100) in range(10,21): #prints ten to twenty ie: 410-420\n",
    "            w.append(num_to_word[a[0]]+' hundred'+ ' and '+ num_to_word[str(i%100)])\n",
    "        elif (i%10==0) and (i%100 in range(10,100,10)): #prints number if last number is zero ie: 480\n",
    "            w.append(num_to_word[a[0]]+' hundred'+' and '+ num_to_word[str(i%100)])\n",
    "        elif (int(a[1])==0) and (i%10 in range(1,10)): #prints number if middle digit is zero ie: 401-409\n",
    "            w.append(num_to_word[a[0]]+' hundred'+' and '+ num_to_word[str(i%10)])\n",
    "        elif i%100==0 and i%10==0: #prints number if it has two trailing zeros ie: 100\n",
    "            w.append(num_to_word[a[0]]+' hundred')\n",
    "        else: #prints the rest of the numbers\n",
    "            w.append(num_to_word[a[0]]+' hundred'+' and '+ num_to_word[str(i%100-i%10)] +'-'+ num_to_word[a[2]])\n",
    "    return w"
   ]
  },
  {
   "cell_type": "markdown",
   "metadata": {
    "nbgrader": {}
   },
   "source": [
    "Now write a set of `assert` tests for your `number_to_words` function that verifies that it is working as expected."
   ]
  },
  {
   "cell_type": "code",
   "execution_count": 11,
   "metadata": {
    "collapsed": false,
    "deletable": false,
    "nbgrader": {
     "checksum": "6cff4e8e53b15273846c3aecaea84a3d",
     "solution": true
    }
   },
   "outputs": [],
   "source": [
    "assert len(number_to_words(1000))==1000\n",
    "assert number_to_words(1000)[10]=='eleven'\n",
    "assert number_to_words(1000)[999]=='one thousand'"
   ]
  },
  {
   "cell_type": "code",
   "execution_count": 3,
   "metadata": {
    "collapsed": true,
    "deletable": false,
    "nbgrader": {
     "checksum": "2c71c0f9dbe2a57b1ddc17bf544d86ed",
     "grade": true,
     "grade_id": "projecteuler17a",
     "points": 4
    }
   },
   "outputs": [],
   "source": [
    "assert True # use this for grading the number_to_words tests."
   ]
  },
  {
   "cell_type": "markdown",
   "metadata": {
    "nbgrader": {}
   },
   "source": [
    "Now define a `count_letters(n)` that returns the number of letters used to write out the words for all of the the numbers `1` to `n` inclusive."
   ]
  },
  {
   "cell_type": "code",
   "execution_count": 4,
   "metadata": {
    "collapsed": true,
    "nbgrader": {
     "checksum": "be228a805b41eda2b30887a53523f76b",
     "solution": true
    }
   },
   "outputs": [],
   "source": [
    "def count_letters(n):\n",
    "    \"\"\"Count the number of letters used to write out the words for 1-n inclusive.\"\"\"\n",
    "    f=[]\n",
    "    for i in number_to_words(n):\n",
    "        if (' ' and '-') in i:\n",
    "            f.append(len(i.replace(' ','').replace('-','')))\n",
    "        elif ' ' in i:\n",
    "            f.append(len(i.replace(' ','')))\n",
    "        elif '-' in i:\n",
    "            f.append(len(i.replace('-','')))\n",
    "        else:\n",
    "            f.append(len(i))\n",
    "    return f"
   ]
  },
  {
   "cell_type": "markdown",
   "metadata": {
    "nbgrader": {}
   },
   "source": [
    "Now write a set of `assert` tests for your `count_letters` function that verifies that it is working as expected."
   ]
  },
  {
   "cell_type": "code",
   "execution_count": 10,
   "metadata": {
    "collapsed": false,
    "deletable": false,
    "nbgrader": {
     "checksum": "6cff4e8e53b15273846c3aecaea84a3d",
     "solution": true
    }
   },
   "outputs": [],
   "source": [
    "assert count_letters(5)[4]==4\n",
    "assert len(count_letters(1000))==1000\n",
    "assert count_letters(1000)[999]==11"
   ]
  },
  {
   "cell_type": "code",
   "execution_count": 7,
   "metadata": {
    "collapsed": true,
    "deletable": false,
    "nbgrader": {
     "checksum": "3a06c9610681f0174008f2976e310e0a",
     "grade": true,
     "grade_id": "projecteuler17b",
     "points": 4
    }
   },
   "outputs": [],
   "source": [
    "assert True # use this for grading the count_letters tests."
   ]
  },
  {
   "cell_type": "markdown",
   "metadata": {
    "nbgrader": {}
   },
   "source": [
    "Finally used your `count_letters` function to solve the original question."
   ]
  },
  {
   "cell_type": "code",
   "execution_count": 12,
   "metadata": {
    "collapsed": false,
    "deletable": false,
    "nbgrader": {
     "checksum": "6cff4e8e53b15273846c3aecaea84a3d",
     "solution": true
    }
   },
   "outputs": [
    {
     "data": {
      "text/plain": [
       "21124"
      ]
     },
     "execution_count": 12,
     "metadata": {},
     "output_type": "execute_result"
    }
   ],
   "source": [
    "n=1000\n",
    "sum(count_letters(n))"
   ]
  },
  {
   "cell_type": "code",
   "execution_count": null,
   "metadata": {
    "collapsed": true,
    "deletable": false,
    "nbgrader": {
     "checksum": "a136658e13c4f1154caf307a2e852f99",
     "grade": true,
     "grade_id": "projecteuler17c",
     "points": 2
    }
   },
   "outputs": [],
   "source": [
    "assert True # use this for gradig the answer to the original question."
   ]
  }
 ],
 "metadata": {
  "kernelspec": {
   "display_name": "Python 3",
   "language": "python",
   "name": "python3"
  },
  "language_info": {
   "codemirror_mode": {
    "name": "ipython",
    "version": 3
   },
   "file_extension": ".py",
   "mimetype": "text/x-python",
   "name": "python",
   "nbconvert_exporter": "python",
   "pygments_lexer": "ipython3",
   "version": "3.4.0"
  }
 },
 "nbformat": 4,
 "nbformat_minor": 0
}
