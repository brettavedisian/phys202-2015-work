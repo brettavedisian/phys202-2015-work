{
 "cells": [
  {
   "cell_type": "markdown",
   "metadata": {
    "nbgrader": {}
   },
   "source": [
    "# Project Euler: Problem 59"
   ]
  },
  {
   "cell_type": "markdown",
   "metadata": {
    "nbgrader": {}
   },
   "source": [
    "https://projecteuler.net/problem=59\n",
    "\n",
    "Each character on a computer is assigned a unique code and the preferred standard is ASCII (American Standard Code for Information Interchange). For example, uppercase A = 65, asterisk (*) = 42, and lowercase k = 107.\n",
    "\n",
    "A modern encryption method is to take a text file, convert the bytes to ASCII, then XOR each byte with a given value, taken from a secret key. The advantage with the XOR function is that using the same encryption key on the cipher text, restores the plain text; for example, 65 XOR 42 = 107, then 107 XOR 42 = 65.\n",
    "\n",
    "For unbreakable encryption, the key is the same length as the plain text message, and the key is made up of random bytes. The user would keep the encrypted message and the encryption key in different locations, and without both \"halves\", it is impossible to decrypt the message.\n",
    "\n",
    "Unfortunately, this method is impractical for most users, so the modified method is to use a password as a key. If the password is shorter than the message, which is likely, the key is repeated cyclically throughout the message. The balance for this method is using a sufficiently long password key for security, but short enough to be memorable.\n",
    "\n",
    "Your task has been made easy, as the encryption key consists of three lower case characters. Using cipher.txt (in this directory), a file containing the encrypted ASCII codes, and the knowledge that the plain text must contain common English words, decrypt the message and find the sum of the ASCII values in the original text."
   ]
  },
  {
   "cell_type": "markdown",
   "metadata": {
    "nbgrader": {}
   },
   "source": [
    "The following cell shows examples of how to perform XOR in Python and how to go back and forth between characters and integers:"
   ]
  },
  {
   "cell_type": "code",
   "execution_count": null,
   "metadata": {
    "collapsed": true,
    "nbgrader": {}
   },
   "outputs": [],
   "source": [
    "assert 65 ^ 42 == 107\n",
    "assert 107 ^ 42 == 65\n",
    "assert ord('a') == 97\n",
    "assert chr(97) == 'a'"
   ]
  },
  {
   "cell_type": "markdown",
   "metadata": {
    "nbgrader": {}
   },
   "source": [
    "Certain functions in the `itertools` module may be useful for computing permutations:"
   ]
  },
  {
   "cell_type": "code",
   "execution_count": null,
   "metadata": {
    "collapsed": true,
    "nbgrader": {}
   },
   "outputs": [],
   "source": [
    "from itertools"
   ]
  },
  {
   "cell_type": "code",
   "execution_count": 42,
   "metadata": {
    "collapsed": false,
    "deletable": false,
    "nbgrader": {
     "checksum": "6cff4e8e53b15273846c3aecaea84a3d",
     "solution": true
    }
   },
   "outputs": [
    {
     "name": "stdout",
     "output_type": "stream",
     "text": [
      "['O', ';', '\\x0c', '\\x02', 'O', '#', '\\x08', '\\x1c', '\\x14', '\\x02', '\\x03', 'D', '\\x08', '\\t', 'D', '-', '\\x00', '\\x0c', '\\t', 'C', 'D', '\\x04', '\\x07', '\\x05', '\\x17', '\\x1b', '\\x01', '\\x15', 'O', 'U', 'N', 'O', 'U', 'G', '&', '\\n', 'G', '\\x1b', '\\x0c', '\\x02', 'O', '\\x06', '\\x02', '\\x08', '\\r', '\\t', '\\x01', '\\r', '\\t', '\\x08', 'D', '\\x13', '\\x07', '\\x01', 'G', '8', '\\x0b', '\\x15', '\\x0b', 'D', '\\x06', '\\x03', '\\x16', '\\x02', '\\x0e', '\\x00', '\\x1e', 'O', '\\x01', '\\x1f', '\\x06', '\\x17', '\\x13', '\\n', '\\x00', 'I', 'O', ',', '\\x02', 'O', '\\x13', '\\x06', '\\x1c', 'D', '\\x10', '\\x06', '\\x10', '\\x0f', 'O', '#', '\\x08', '\\x0b', 'H', 'G', '\\x0e', '\\n', '\\x03', 'O', '\\x0c', '\\x02', 'O', '\\x13', '\\x06', '\\x1c', 'D', ' ', '\\x00', '\\x00', 'I', 'O', 'V', 'G', \"'\", '\\x01', 'G', '\\x18', '\\x05', '\\x14', 'O', '\\r', '\\t', 'O', '\\x10', '\\x0f', '\\n', 'D', '\\x05', '\\n', '\\x03', '\\x0e', '\\x01', '\\n', '\\x0e', '\\x01', '\\x03', 'G', '\\x18', '\\r', '\\x13', '\\x07', 'D', ' ', '\\x00', '\\x00', 'I', 'O', 'W', 'G', \"'\", '\\x01', 'G', '\\x0c', '\\x16', '\\x02', '\\x0e', '\\x10', '\\x02', '\\x0b', 'D', '\\x02', '\\x19', '\\x01', '\\x15', '\\x16', '\\x10', '\\x0f', '\\x06', '\\n', '\\x00', 'O', '\\x10', '\\x0f', '\\n', '\\x16', '\\x02', 'O', '\\r', '\\x14', 'A', 'D', ')', '\\x00', '\\x10', '\\x0f', '\\x06', '\\n', '\\x00', 'O', '\\x01', '\\x1f', '\\x06', '\\x17', '\\x13', '\\x1c', 'D', '\\x13', '\\x07', '\\x05', '\\x13', 'O', '\\x0c', '\\x02', 'O', '\\x00', '\\x0e', '\\x0b', '\\n', '@', '\\x1b', 'D', '\\n', '\\x0e', '\\x0f', '\\x02', 'A', 'D', 'S', 'O', '(', '\\x0e', '\\t', '\\x01', 'G', '\\x06', '\\x10', '\\x14', '\\n', '\\x08', '\\x01', 'O', '\\x13', '\\x06', '\\x1c', 'D', '\\x0e', '\\x01', 'D', '\\x0f', '\\x06', '\\t', 'K', 'O', '\\x05', '\\t', '\\x0b', 'D', '\\x13', '\\x07', '\\r', '\\x14', 'O', '\\x08', '\\x0e', '\\t', '\\x01', 'G', '\\x08', '\\r', '\\x11', '\\n', '\\x17', 'G', '\\x03', '\\r', '\\x00', '\\x07', '\\x10', 'G', '\\x1b', '\\x0b', 'G', '\\n', '\\x12', '\\x02', '\\x1d', '\\x1d', '\\x08', '\\x01', '\\x01', 'I', 'O', 'Q', 'G', ';', '\\x0c', '\\x02', 'O', '\\x08', '\\x0e', '\\x08', '\\x0c', '\\x13', 'O', '\\x17', '\\x0f', '\\x06', '\\n', '\\x02', '\\x1c', 'D', '\\x13', '\\x07', '\\x16', '\\x08', '\\x1a', '\\x03', '\\x0f', 'O', '\\x10', '\\x0f', '\\n', 'D', '\\x03', '\\x0e', '\\x16', '\\x0c', '\\x01', '\\x01', '\\x14', '\\x1c', 'H', 'G', '\\x0e', '\\n', '\\x03', 'O', '\\x10', '\\x0f', '\\n', 'D', '\\x03', '\\x0e', '\\x16', '\\x0c', '\\x01', '\\x01', '\\x14', '\\x1c', 'D', '\\x04', '\\x0e', '\\n', 'G', '\\x01', '\\x01', '\\x11', '\\n', '\\x16', 'G', '\\n', '\\x1c', '\\x13', '\\x06', '\\n', '\\x00', '\\x1a', '\\r', '\\x14', '\\x07', 'D', '\\x0e', '\\x1b', 'J', 'G', 'Y', 'D', ' ', '\\x00', '\\x00', 'G', '\\x1c', '\\x01', '\\t', '\\x1b', 'D', '-', '\\x00', '\\x0c', '\\t', 'O', '\\x10', '\\x0f', '\\n', 'D', '%', '\\x0e', '\\x14', '\\x13', '\\x06', '\\x17', '\\x13', 'O', 'S', 'G', '\\x1b', '\\x0b', 'G', '\\x1b', '\\x01', '\\x0b', '\\x03', 'D', '\\x02', '\\x19', '\\x01', '\\x15', '\\x16', '\\x0b', '\\t', '\\n', 'D', '\\x06', '\\r', '\\x0b', '\\x12', '\\x1b', 'D', '\\x13', '\\x07', '\\x01', 'G', '\\x03', '\\r', '\\x00', '\\x07', '\\x10', 'G', '\\x1c', '\\x0b', 'G', '\\x1b', '\\x0c', '\\x06', '\\x1b', 'D', '\\x02', '\\x19', '\\x01', '\\x15', '\\x16', '\\x0b', '\\t', '\\n', 'D', '\\n', '\\x06', '\\x03', '\\x0f', '\\x1b', 'D', '\\x05', '\\n', '\\x08', '\\x0e', '\\n', '\\x12', '\\x02', 'O', '\\x06', '\\x02', '\\x0c', '\\x05', '\\x12', '\\x1c', '\\x01', 'G', '\\x00', '\\x02', 'G', '\\x07', '\\r', '\\x14', 'O', '\\x10', '\\x02', '\\x1c', '\\x10', '\\x0e', '\\x02', '\\x0b', '\\t', '\\x16', 'J', 'G', 'W', 'D', '-', '\\x00', '\\x0c', '\\t', 'O', '\\x0c', '\\x0e', '\\x02', '\\x17', '\\x02', '\\x03', '\\x02', 'G', '\\x18', '\\x05', '\\x14', 'O', '\\n', '\\x08', '\\x1b', 'D', '\\x13', '\\x07', '\\x01', 'G', '\\x03', '\\r', '\\x00', '\\x07', '\\x10', '\\\\', 'O', '\\x0c', '\\x02', 'O', '\\x13', '\\x06', '\\x1c', 'D', '\\x08', '\\x01', '\\x08', '\\x1e', 'O', '\\x05', 'G', '\\x18', '\\r', '\\x13', '\\x01', '\\x01', '\\x14', '\\x1c', 'D', '\\x13', '\\x00', 'D', '\\x13', '\\x07', '\\x01', 'G', '\\x03', '\\r', '\\x00', '\\x07', '\\x10', 'I', 'O', ']', 'G', ';', '\\x0c', '\\x02', 'O', '\\x0b', '\\t', '\\n', 'D', '\\x10', '\\x07', '\\x0b', 'G', '\\x06', '\\x17', 'G', '\\x1b', '\\x0c', '\\x02', 'O', '\\x10', '\\x15', '\\x1a', '\\x01', 'G', '\\x03', '\\r', '\\x00', '\\x07', '\\x10', 'K', 'O', '\\x13', '\\x0f', '\\x00', 'D', '\\x00', '\\x06', '\\x12', '\\x02', '\\x1c', 'D', '\\x0b', '\\x06', '\\x03', '\\x0f', '\\x1b', 'D', '\\x13', '\\x00', 'D', '\\x02', '\\x19', '\\x01', '\\x15', '\\x16', '\\x0b', '\\t', '\\n', 'H', 'G', '\\x18', '\\x05', '\\x14', 'O', '\\x03', '\\x08', '\\x06', '\\n', '\\x00', 'O', '\\x10', '\\x08', 'O', '\\x07', '\\x08', '\\x02', '\\x01', 'G', '\\x06', '\\n', '\\x13', '\\x00', 'D', '\\x13', '\\x07', '\\x01', 'G', '\\x18', '\\x0b', '\\x15', '\\x03', '\\x00', 'I', 'O', 'U', 'W', 'O', '&', '\\x12', '\\x1b', 'D', '\\x06', '\\x03', '\\x10', '\\x0f', '\\x00', '\\x11', '\\x00', '\\x07', 'D', '\\x13', '\\x07', '\\x01', 'G', '\\x18', '\\x0b', '\\x15', '\\x03', '\\x00', 'G', '\\x18', '\\x05', '\\x14', 'O', '\\t', '\\x06', '\\x0b', '\\x01', 'G', '\\x1b', '\\x0c', '\\x15', '\\x00', '\\x11', '\\x00', '\\x07', 'D', '\\x0f', '\\x06', '\\t', 'K', 'O', '\\x10', '\\x0f', '\\n', 'D', '\\x10', '\\x00', '\\x16', '\\x0b', '\\x0b', 'D', '\\x03', '\\x06', '\\x00', '\\t', 'H', '\\x10', 'G', '\\x1d', '\\x01', '\\x04', '\\x00', '\\x03', '\\t', '\\x06', '\\x1e', '\\x02', 'O', '\\x0c', '\\x0e', '\\x02', 'D', '\\x10', '\\x07', '\\x01', '\\t', 'O', '\\x0c', '\\x02', 'O', '\\x07', '\\x06', '\\x02', '\\x01', 'I', 'O', 'U', 'V', 'O', '!', '\\x11', '\\n', '\\n', 'G', '\\x06', '\\n', 'G', '\\x07', '\\r', '\\x14', 'O', '\\x0b', '\\x10', '\\x01', 'D', '\\x0b', '\\x0e', '\\n', '\\x03', 'O', '\\x05', '\\t', '\\x0b', 'D', '\\x06', '\\x02', '\\x0b', '\\t', '\\x08', 'D', '\\x0f', '\\x06', '\\x17', 'G', '\\x00', '\\x13', '\\t', 'O', '\\x14', '\\x02', '\\x00', '\\x14', '\\x0b', '\\n', 'H', 'G', '\\x07', '\\x01', 'G', '\\x18', '\\x05', '\\x14', 'O', '\\n', '\\x08', '\\x1b', 'D', '\\x06', '\\x0c', '\\x07', '\\x02', '\\x1f', '\\x10', '\\x02', '\\x0b', 'J', 'G', '^', 'V', 'G', '-', '\\x11', '\\x13', 'O', '\\x10', '\\x08', 'O', '\\x05', '\\x0b', '\\x03', 'D', '\\x10', '\\x07', '\\x0b', 'G', '\\r', '\\x01', '\\x0b', '\\x06', '\\x01', '\\x11', '\\n', '\\x00', 'G', '\\x07', '\\r', '\\n', 'O', '\\x05', '\\t', '\\x0b', 'D', '\\x06', '\\x0c', '\\x07', '\\x02', '\\x1f', '\\x10', '\\x02', '\\x0b', 'D', '\\x0f', '\\x06', '\\t', 'K', 'O', '\\x0c', '\\x02', 'O', '\\x03', '\\x06', '\\x19', '\\x01', 'G', '\\x1b', '\\x0c', '\\x02', 'O', '\\x16', '\\x0e', '\\x08', '\\x0c', '\\x13', 'O', '\\x10', '\\x08', 'O', '\\x06', '\\x02', '\\x0c', '\\x0b', '\\n', '\\n', 'D', '\\x04', '\\x07', '\\r', '\\x0b', '\\x0b', '\\x16', '\\x02', '\\x01', 'D', '\\x08', '\\t', 'D', ' ', '\\x00', '\\x00', 'I', 'O', 'U', 'T', 'O', '0', '\\x0f', '\\n', '\\x1d', 'G', '\\x0e', '\\x16', '\\x02', 'O', '\\x16', '\\x02', '\\r', '\\x0b', '\\x15', '\\x01', 'E', 'G', ';', '\\x0c', '\\x0e', '\\x1c', 'D', '\\x0e', '\\x1c', 'D', '\\t', '\\x00', '\\x10', 'G', '\\x0e', 'D', '\\x17', '\\x07', '\\x1d', '\\x14', '\\x06', '\\x07', '\\x06', '\\x03', 'D', '\\x05', '\\x06', '\\x16', '\\x13', '\\x07', 'D', '\\x15', '\\n', '\\x17', '\\x12', '\\x03', '\\x10', '\\x0e', '\\x01', '\\x03', 'G', '\\t', '\\x16', '\\x08', '\\x02', 'D', '\\x0f', '\\x1a', '\\t', '\\x06', '\\x01', 'D', '\\x17', '\\x0e', '\\x17', '\\x14', '\\x06', '\\x0b', '\\t', 'O', '\\x0b', '\\x15', 'O', '\\x14', '\\x0b', '\\x0e', '\\n', 'K', 'O', '\\x10', '\\x0f', '\\x06', '\\x17', 'G', '\\x1d', '\\x01', '\\x05', '\\x06', '\\x16', '\\x13', '\\x07', 'D', '\\x04', '\\x00', '\\t', '\\x02', '\\x1c', 'D', '\\x01', '\\x1d', '\\x0b', '\\n', 'O', '#', '\\x08', '\\x0b', 'J', 'V', '[', 'D', '4', '\\x00', 'D', '\\x13', '\\x07', '\\x01', 'G', '8', '\\x0b', '\\x15', '\\x0b', 'D', '\\x05', '\\n', '\\x07', '\\x06', '\\x02', '\\x01', 'G', '\\x07', '\\x11', '\\n', '\\x0e', '\\n', 'G', '\\x0e', '\\n', '\\x03', 'O', '\\x08', '\\x0e', '\\x19', '\\x01', '\\x03', 'O', '\\x0c', '\\x02', '\\x1d', '\\x01', 'G', '\\x00', '\\n', 'G', '\\n', '\\x05', '\\x15', '\\x1b', '\\x0c', 'G', '\\x0e', '\\t', '\\x08', '\\x01', '\\x03', 'G', '\\x1a', '\\x17', 'I', 'O', ',', '\\x02', 'O', '\\x13', '\\x06', '\\x1c', 'D', '\\x01', '\\x1a', '\\x08', '\\x0b', 'O', '\\x0b', '\\x01', 'O', '\\x11', '\\t', '\\t', '\\x05', '\\x0e', '\\x03', '\\r', '\\t', '\\x08', 'D', '\\x0b', '\\x00', '\\x12', '\\x02', 'O', '\\x05', '\\t', '\\x0b', 'D', '\\x01', '\\x0e', '\\r', '\\x13', '\\x07', '\\x02', '\\x12', '\\x03', '\\n', '\\x02', '\\x1c', '\\x17', 'I', 'O', '%', '\\t', '\\x0b', 'D', '\\x10', '\\n', 'D', '\\x0f', '\\x0e', '\\x12', '\\x02', 'O', '\\x17', '\\x02', '\\n', '\\n', 'G', '\\x07', '\\r', '\\x14', 'O', '\\x03', '\\x0b', '\\x00', '\\x16', '\\x1e', 'C', 'D', '\\x13', '\\x07', '\\x01', 'G', '\\x08', '\\x08', '\\x08', '\\x1d', '\\x1d', 'G', '\\x00', '\\x02', 'G', '\\x1b', '\\x0c', '\\x02', 'O', '\\x0b', '\\t', '\\x03', '\\x1d', 'G', '<', '\\x0b', '\\t', 'O', '\\x0b', '\\x01', 'O', '\\x10', '\\x0f', '\\n', 'D', '!', '\\x0e', '\\x10', '\\x0f', '\\n', '\\x16', 'I']\n"
     ]
    }
   ],
   "source": [
    "letters=[\"a\", \"b\", \"c\", \"d\",  \"e\", \"f\", \"g\", \"h\", \"i\", \"j\", \"k\", \"l\", \"m\", \"n\", \"o\", \"p\", \"q\", \"r\", \"s\", \"t\", \"u\", \"v\", \"w\", \"x\", \"y\", \"z\"]\n",
    "numbers=range(97,123)\n",
    "f=open(\"cipher.txt\", \"r\") #read the text file\n",
    "i=(f.read().split(\",\")) #set i equal to what's in file\n",
    "n=[]\n",
    "y=[]\n",
    "for t in i:\n",
    "    n.append(int(t))\n",
    "for x in n:\n",
    "    y.append(chr(x))\n",
    "print(y)\n",
    "\n",
    "\n",
    "\n",
    "f.close()"
   ]
  },
  {
   "cell_type": "code",
   "execution_count": null,
   "metadata": {
    "collapsed": true
   },
   "outputs": [],
   "source": []
  },
  {
   "cell_type": "code",
   "execution_count": null,
   "metadata": {
    "collapsed": true
   },
   "outputs": [],
   "source": []
  },
  {
   "cell_type": "code",
   "execution_count": null,
   "metadata": {
    "collapsed": true
   },
   "outputs": [],
   "source": []
  },
  {
   "cell_type": "code",
   "execution_count": null,
   "metadata": {
    "collapsed": true
   },
   "outputs": [],
   "source": []
  },
  {
   "cell_type": "code",
   "execution_count": null,
   "metadata": {
    "collapsed": true
   },
   "outputs": [],
   "source": [
    "def encode(key, thing):\n",
    "    chars=[]\n",
    "    for i in range(thing):\n",
    "        keyc=key[i%len(key)]\n",
    "        encodedc=chr(ord)"
   ]
  },
  {
   "cell_type": "code",
   "execution_count": null,
   "metadata": {
    "collapsed": true,
    "deletable": false,
    "nbgrader": {
     "checksum": "dcdf6792a88c661545d3ca651212dba8",
     "grade": true,
     "grade_id": "projecteuler59",
     "points": 10
    }
   },
   "outputs": [],
   "source": [
    "# This cell will be used for grading, leave it at the end of the notebook."
   ]
  }
 ],
 "metadata": {
  "kernelspec": {
   "display_name": "Python 3",
   "language": "python",
   "name": "python3"
  },
  "language_info": {
   "codemirror_mode": {
    "name": "ipython",
    "version": 3
   },
   "file_extension": ".py",
   "mimetype": "text/x-python",
   "name": "python",
   "nbconvert_exporter": "python",
   "pygments_lexer": "ipython3",
   "version": "3.4.0"
  }
 },
 "nbformat": 4,
 "nbformat_minor": 0
}
