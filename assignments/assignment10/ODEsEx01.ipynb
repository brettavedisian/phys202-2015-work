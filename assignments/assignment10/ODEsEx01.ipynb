{
 "cells": [
  {
   "cell_type": "markdown",
   "metadata": {
    "nbgrader": {}
   },
   "source": [
    "# Ordinary Differential Equations Exercise 1"
   ]
  },
  {
   "cell_type": "markdown",
   "metadata": {
    "nbgrader": {}
   },
   "source": [
    "## Imports"
   ]
  },
  {
   "cell_type": "code",
   "execution_count": 11,
   "metadata": {
    "collapsed": false,
    "nbgrader": {}
   },
   "outputs": [],
   "source": [
    "%matplotlib inline\n",
    "import matplotlib.pyplot as plt\n",
    "import numpy as np\n",
    "import seaborn as sns\n",
    "from scipy.integrate import odeint\n",
    "from IPython.html.widgets import interact, fixed"
   ]
  },
  {
   "cell_type": "markdown",
   "metadata": {
    "nbgrader": {}
   },
   "source": [
    "## Euler's method"
   ]
  },
  {
   "cell_type": "markdown",
   "metadata": {
    "nbgrader": {}
   },
   "source": [
    "[Euler's method](http://en.wikipedia.org/wiki/Euler_method) is the simplest numerical approach for solving a first order ODE numerically. Given the differential equation\n",
    "\n",
    "$$ \\frac{dy}{dx} = f(y(x), x) $$\n",
    "\n",
    "with the initial condition:\n",
    "\n",
    "$$ y(x_0)=y_0 $$\n",
    "\n",
    "Euler's method performs updates using the equations:\n",
    "\n",
    "$$ y_{n+1} = y_n + h f(y_n,x_n) $$\n",
    "\n",
    "$$ h = x_{n+1} - x_n $$\n",
    "\n",
    "Write a function `solve_euler` that implements the Euler method for a 1d ODE and follows the specification described in the docstring:"
   ]
  },
  {
   "cell_type": "code",
   "execution_count": 12,
   "metadata": {
    "collapsed": false,
    "nbgrader": {
     "checksum": "970f9fafed818a7c2b3202d7c5f42f7f",
     "solution": true
    }
   },
   "outputs": [],
   "source": [
    "def solve_euler(derivs, y0, x):\n",
    "    \"\"\"Solve a 1d ODE using Euler's method.\n",
    "    \n",
    "    Parameters\n",
    "    ----------\n",
    "    derivs : function\n",
    "        The derivative of the diff-eq with the signature deriv(y,x) where\n",
    "        y and x are floats.\n",
    "    y0 : float\n",
    "        The initial condition y[0] = y(x[0]).\n",
    "    x : np.ndarray, list, tuple\n",
    "        The array of times at which of solve the diff-eq.\n",
    "    \n",
    "    Returns\n",
    "    -------\n",
    "    y : np.ndarray\n",
    "        Array of solutions y[i] = y(x[i])\n",
    "    \"\"\"\n",
    "    y=np.zeros_like(x)\n",
    "    h=x[1]-x[0]\n",
    "    y[0]=y0\n",
    "    for i in range(len(x)-1):\n",
    "        y[i+1]=y[i]+h*derivs(y[i],x[i])\n",
    "    return y"
   ]
  },
  {
   "cell_type": "code",
   "execution_count": 13,
   "metadata": {
    "collapsed": false,
    "deletable": false,
    "nbgrader": {
     "checksum": "dde39b8046d2099cf0618eb75d9d49a2",
     "grade": true,
     "grade_id": "odesex01a",
     "points": 2
    }
   },
   "outputs": [],
   "source": [
    "assert np.allclose(solve_euler(lambda y, x: 1, 0, [0,1,2]), [0,1,2])"
   ]
  },
  {
   "cell_type": "markdown",
   "metadata": {
    "nbgrader": {}
   },
   "source": [
    "The [midpoint method]() is another numerical method for solving the above differential equation. In general it is more accurate than the Euler method. It uses the update equation:\n",
    "\n",
    "$$ y_{n+1} = y_n + h f\\left(y_n+\\frac{h}{2}f(y_n,x_n),x_n+\\frac{h}{2}\\right) $$\n",
    "\n",
    "Write a function `solve_midpoint` that implements the midpoint method for a 1d ODE and follows the specification described in the docstring:"
   ]
  },
  {
   "cell_type": "code",
   "execution_count": 14,
   "metadata": {
    "collapsed": true,
    "nbgrader": {
     "checksum": "caba5256e19921e2282330d0b0b85337",
     "solution": true
    }
   },
   "outputs": [],
   "source": [
    "def solve_midpoint(derivs, y0, x):\n",
    "    \"\"\"Solve a 1d ODE using the Midpoint method.\n",
    "    \n",
    "    Parameters\n",
    "    ----------\n",
    "    derivs : function\n",
    "        The derivative of the diff-eq with the signature deriv(y,x) where y\n",
    "        and x are floats.\n",
    "    y0 : float\n",
    "        The initial condition y[0] = y(x[0]).\n",
    "    x : np.ndarray, list, tuple\n",
    "        The array of times at which of solve the diff-eq.\n",
    "    \n",
    "    Returns\n",
    "    -------\n",
    "    y : np.ndarray\n",
    "        Array of solutions y[i] = y(x[i])\n",
    "    \"\"\"\n",
    "    y=np.zeros_like(x)\n",
    "    h=x[1]-x[0]\n",
    "    y[0]=y0\n",
    "    for i in range(len(x)-1):\n",
    "        y[i+1]=y[i]+h*derivs(y[i]+(h/2)*derivs(y[i],x[i]),x[i]+(h/2))\n",
    "    return y"
   ]
  },
  {
   "cell_type": "code",
   "execution_count": 15,
   "metadata": {
    "collapsed": true,
    "deletable": false,
    "nbgrader": {
     "checksum": "f8e6136e04daabfb02cd8ed157e194d8",
     "grade": true,
     "grade_id": "odesex01b",
     "points": 2
    }
   },
   "outputs": [],
   "source": [
    "assert np.allclose(solve_midpoint(lambda y, x: 1, 0, [0,1,2]), [0,1,2])"
   ]
  },
  {
   "cell_type": "markdown",
   "metadata": {
    "nbgrader": {}
   },
   "source": [
    "You are now going to solve the following differential equation:\n",
    "\n",
    "$$\n",
    "\\frac{dy}{dx} = x + 2y\n",
    "$$\n",
    "\n",
    "which has the analytical solution:\n",
    "\n",
    "$$\n",
    "y(x) = 0.25 e^{2x} - 0.5 x - 0.25\n",
    "$$\n",
    "\n",
    "First, write a `solve_exact` function that compute the exact solution and follows the specification described in the docstring:"
   ]
  },
  {
   "cell_type": "code",
   "execution_count": 16,
   "metadata": {
    "collapsed": false,
    "nbgrader": {
     "checksum": "8abaa12752f4606d727cbe599443dc6b",
     "grade": false,
     "grade_id": "",
     "points": 0,
     "solution": true
    }
   },
   "outputs": [],
   "source": [
    "def solve_exact(x):\n",
    "    \"\"\"compute the exact solution to dy/dx = x + 2y.\n",
    "    \n",
    "    Parameters\n",
    "    ----------\n",
    "    x : np.ndarray\n",
    "        Array of x values to compute the solution at.\n",
    "    \n",
    "    Returns\n",
    "    -------\n",
    "    y : np.ndarray\n",
    "        Array of solutions at y[i] = y(x[i]).\n",
    "    \"\"\"\n",
    "    y=np.zeros_like(x)\n",
    "    y=0.25*np.exp(2*x)-0.5*x-0.25\n",
    "    return y"
   ]
  },
  {
   "cell_type": "code",
   "execution_count": 17,
   "metadata": {
    "collapsed": false,
    "deletable": false,
    "nbgrader": {
     "checksum": "1234041305bef6ff5b2f7daf4ae33597",
     "grade": true,
     "grade_id": "odesex01c",
     "points": 2
    }
   },
   "outputs": [],
   "source": [
    "assert np.allclose(solve_exact(np.array([0,1,2])),np.array([0., 1.09726402, 12.39953751]))"
   ]
  },
  {
   "cell_type": "markdown",
   "metadata": {
    "nbgrader": {}
   },
   "source": [
    "In the following cell you are going to solve the above ODE using four different algorithms:\n",
    "\n",
    "1. Euler's method\n",
    "2. Midpoint method\n",
    "3. `odeint`\n",
    "4. Exact\n",
    "\n",
    "Here are the details:\n",
    "\n",
    "* Generate an array of x values with $N=11$ points over the interval $[0,1]$ ($h=0.1$).\n",
    "* Define the `derivs` function for the above differential equation.\n",
    "* Using the `solve_euler`, `solve_midpoint`, `odeint` and `solve_exact` functions to compute\n",
    "  the solutions using the 4 approaches.\n",
    "\n",
    "Visualize the solutions on a single figure with two subplots:\n",
    "\n",
    "1. Plot the $y(x)$ versus $x$ for each of the 4 approaches.\n",
    "2. Plot $\\left|y(x)-y_{exact}(x)\\right|$ versus $x$ for each of the 3 numerical approaches.\n",
    "\n",
    "Your visualization should have legends, labeled axes, titles and be customized for beauty and effectiveness.\n",
    "\n",
    "While your final plot will use $N=10$ points, first try making $N$ larger and smaller to see how that affects the errors of the different approaches."
   ]
  },
  {
   "cell_type": "code",
   "execution_count": 18,
   "metadata": {
    "collapsed": false,
    "deletable": false,
    "nbgrader": {
     "checksum": "6cff4e8e53b15273846c3aecaea84a3d",
     "solution": true
    }
   },
   "outputs": [
    {
     "data": {
      "image/png": "[encoded data removed]",
      "text/plain": [
       "<matplotlib.figure.Figure at 0x7fd3b186f550>"
      ]
     },
     "metadata": {},
     "output_type": "display_data"
    }
   ],
   "source": [
    "x=np.linspace(0,1,11)\n",
    "\n",
    "def derivs(y,x):\n",
    "    return x+2*y\n",
    "\n",
    "plt.figure(figsize=(10,9))\n",
    "\n",
    "euler_diff=abs(solve_euler(derivs,0,x)-solve_exact(x))\n",
    "\n",
    "midpt_diff=abs(solve_midpoint(derivs,0,x)-solve_exact(x))\n",
    "\n",
    "ode_diff=np.empty(len(solve_euler(derivs,0,x)))\n",
    "for i in range(len(solve_euler(derivs,0,x))):\n",
    "    ode_diff[i]=abs(odeint(derivs,0,x)[i]-solve_exact(x)[i])\n",
    "\n",
    "plt.subplot(211);\n",
    "plt.plot(x,solve_euler(derivs,0,x), label='Euler');\n",
    "plt.plot(x,solve_midpoint(derivs,0,x), label='Midpoint');\n",
    "plt.plot(x,solve_exact(x), 'o', label='Exact');\n",
    "plt.plot(x,odeint(derivs,0,x), label='ODE');\n",
    "plt.legend(bbox_to_anchor=(1.05, 1), loc=2);\n",
    "plt.title('Differential Methods'),plt.xlabel('x'),plt.ylabel('y(x)');\n",
    "\n",
    "plt.subplot(212);\n",
    "plt.plot(x,euler_diff, label='Euler');\n",
    "plt.plot(x,midpt_diff, label='Midpoint');\n",
    "plt.plot(x,ode_diff,label='ODE');\n",
    "plt.legend(bbox_to_anchor=(1.05, 1), loc=2);\n",
    "plt.title('Differential Methods Difference'),plt.xlabel('x'),plt.ylabel('Difference');\n",
    "\n",
    "plt.tight_layout();"
   ]
  },
  {
   "cell_type": "code",
   "execution_count": 19,
   "metadata": {
    "collapsed": true,
    "deletable": false,
    "nbgrader": {
     "checksum": "7d29baed01ce53d19fe14792b77ab230",
     "grade": true,
     "grade_id": "odesex01d",
     "points": 4
    }
   },
   "outputs": [],
   "source": [
    "assert True # leave this for grading the plots"
   ]
  }
 ],
 "metadata": {
  "kernelspec": {
   "display_name": "Python 3",
   "language": "python",
   "name": "python3"
  },
  "language_info": {
   "codemirror_mode": {
    "name": "ipython",
    "version": 3
   },
   "file_extension": ".py",
   "mimetype": "text/x-python",
   "name": "python",
   "nbconvert_exporter": "python",
   "pygments_lexer": "ipython3",
   "version": "3.4.0"
  }
 },
 "nbformat": 4,
 "nbformat_minor": 0
}
